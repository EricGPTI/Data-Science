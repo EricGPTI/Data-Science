{
 "cells": [
  {
   "cell_type": "markdown",
   "metadata": {},
   "source": [
    "# Análise Efetividade Avon Preventivo 528\n"
   ]
  },
  {
   "cell_type": "code",
   "execution_count": null,
   "metadata": {
    "scrolled": true
   },
   "outputs": [],
   "source": [
    "import numpy as np\n",
    "import pandas as pd\n",
    "\n",
    "df = pd.read_csv(\"/Users/devel03/Desktop/Efetividade Avon Preventivo/15062018_to_14072018.csv\",\n",
    "                header=0 - 6,\n",
    "                names=['CGC_CPF',\n",
    "                       'IDKEY',\n",
    "                       'VLR_NEGOCIADO', \n",
    "                       'VLR_PAGO', \n",
    "                       'DT_ACORDO',\n",
    "                       'DT_VCTO_ORIGINAL',\n",
    "                       'DT_PAGAMENTO',\n",
    "                       'ATRASO']\n",
    "                )\n",
    "\n",
    "\n"
   ]
  },
  {
   "cell_type": "code",
   "execution_count": null,
   "metadata": {},
   "outputs": [],
   "source": [
    "df"
   ]
  },
  {
   "cell_type": "code",
   "execution_count": null,
   "metadata": {},
   "outputs": [],
   "source": []
  }
 ],
 "metadata": {
  "kernelspec": {
   "display_name": "Python 3",
   "language": "python",
   "name": "python3"
  },
  "language_info": {
   "codemirror_mode": {
    "name": "ipython",
    "version": 3
   },
   "file_extension": ".py",
   "mimetype": "text/x-python",
   "name": "python",
   "nbconvert_exporter": "python",
   "pygments_lexer": "ipython3",
   "version": "3.6.5"
  }
 },
 "nbformat": 4,
 "nbformat_minor": 2
}
