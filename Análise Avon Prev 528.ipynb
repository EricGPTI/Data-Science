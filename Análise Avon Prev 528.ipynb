{
 "cells": [
  {
   "cell_type": "markdown",
   "metadata": {},
   "source": [
    "# Análise Efetividade Avon Preventivo 528\n"
   ]
  },
  {
   "cell_type": "code",
   "execution_count": 13,
   "metadata": {
    "scrolled": true
   },
   "outputs": [],
   "source": [
    "import numpy as np\n",
    "import pandas as pd\n",
    "\n",
    "df = pd.read_csv(\"/Users/devel03/Desktop/Efetividade Avon Preventivo/Teste_Avon_Prev.csv\", encoding='UTF-8', delimiter=';',\n",
    "                header=None,\n",
    "                names=['CPF',\n",
    "                 'ID_KEY',\n",
    "                 'NEGOCIADO',\n",
    "                 'RECEBIDO',\n",
    "                 'D.ACORDO',\n",
    "                 'D.PREVISAO',\n",
    "                 'D.VENC_ORIG',\n",
    "                 'D.PAGAMENTO',\n",
    "                 'TEMPO_ATRASO']\n",
    "                )\n",
    "\n",
    "\n"
   ]
  },
  {
   "cell_type": "code",
   "execution_count": 15,
   "metadata": {},
   "outputs": [
    {
     "data": {
      "text/html": [
       "<div>\n",
       "<style>\n",
       "    .dataframe thead tr:only-child th {\n",
       "        text-align: right;\n",
       "    }\n",
       "\n",
       "    .dataframe thead th {\n",
       "        text-align: left;\n",
       "    }\n",
       "\n",
       "    .dataframe tbody tr th {\n",
       "        vertical-align: top;\n",
       "    }\n",
       "</style>\n",
       "<table border=\"1\" class=\"dataframe\">\n",
       "  <thead>\n",
       "    <tr style=\"text-align: right;\">\n",
       "      <th></th>\n",
       "      <th>CPF</th>\n",
       "      <th>ID_KEY</th>\n",
       "      <th>NEGOCIADO</th>\n",
       "      <th>RECEBIDO</th>\n",
       "      <th>D.ACORDO</th>\n",
       "      <th>D.PREVISAO</th>\n",
       "      <th>D.VENC_ORIG</th>\n",
       "      <th>D.PAGAMENTO</th>\n",
       "      <th>TEMPO_ATRASO</th>\n",
       "    </tr>\n",
       "  </thead>\n",
       "  <tbody>\n",
       "    <tr>\n",
       "      <th>0</th>\n",
       "      <td>997.619.632-68</td>\n",
       "      <td>7,36064E+19</td>\n",
       "      <td>83980</td>\n",
       "      <td>83980</td>\n",
       "      <td>18062018</td>\n",
       "      <td>19062018</td>\n",
       "      <td>18062018</td>\n",
       "      <td>20062018</td>\n",
       "      <td>2</td>\n",
       "    </tr>\n",
       "    <tr>\n",
       "      <th>1</th>\n",
       "      <td>035.110.772-06</td>\n",
       "      <td>7,45228E+19</td>\n",
       "      <td>1058960</td>\n",
       "      <td>245960</td>\n",
       "      <td>16062018</td>\n",
       "      <td>25062018</td>\n",
       "      <td>24062018</td>\n",
       "      <td>25062018</td>\n",
       "      <td>1</td>\n",
       "    </tr>\n",
       "    <tr>\n",
       "      <th>2</th>\n",
       "      <td>311.255.655-00</td>\n",
       "      <td>9,39127E+19</td>\n",
       "      <td>1166320</td>\n",
       "      <td>360</td>\n",
       "      <td>19062018</td>\n",
       "      <td>21062018</td>\n",
       "      <td>16062018</td>\n",
       "      <td>19062018</td>\n",
       "      <td>3</td>\n",
       "    </tr>\n",
       "  </tbody>\n",
       "</table>\n",
       "</div>"
      ],
      "text/plain": [
       "              CPF       ID_KEY  NEGOCIADO  RECEBIDO  D.ACORDO  D.PREVISAO  \\\n",
       "0  997.619.632-68  7,36064E+19      83980     83980  18062018    19062018   \n",
       "1  035.110.772-06  7,45228E+19    1058960    245960  16062018    25062018   \n",
       "2  311.255.655-00  9,39127E+19    1166320       360  19062018    21062018   \n",
       "\n",
       "   D.VENC_ORIG  D.PAGAMENTO  TEMPO_ATRASO  \n",
       "0     18062018     20062018             2  \n",
       "1     24062018     25062018             1  \n",
       "2     16062018     19062018             3  "
      ]
     },
     "execution_count": 15,
     "metadata": {},
     "output_type": "execute_result"
    }
   ],
   "source": [
    "df.head(3)"
   ]
  }
 ],
 "metadata": {
  "kernelspec": {
   "display_name": "Python 2",
   "language": "python",
   "name": "python2"
  },
  "language_info": {
   "codemirror_mode": {
    "name": "ipython",
    "version": 2
   },
   "file_extension": ".py",
   "mimetype": "text/x-python",
   "name": "python",
   "nbconvert_exporter": "python",
   "pygments_lexer": "ipython2",
   "version": "2.7.13"
  }
 },
 "nbformat": 4,
 "nbformat_minor": 2
}
